{
 "cells": [
  {
   "cell_type": "code",
   "execution_count": 1,
   "metadata": {
    "vscode": {
     "languageId": "shellscript"
    }
   },
   "outputs": [],
   "source": [
    "import json\n",
    "import os\n",
    "\n",
    "with open('data/codearena_instances.json') as f:\n",
    "    tasks = json.load(f)\n",
    "\n",
    "instance_ids = [t['instance_id'] for t in tasks]\n",
    "\n",
    "def get_task(instance_id):\n",
    "    return [t for t in tasks if t['instance_id'] == instance_id][0]\n",
    "\n",
    "yt_ids = [t['instance_id'] for t in tasks if 'youtube' in t['instance_id']]\n",
    "\n",
    "def save_ids(id_list, filename):\n",
    "    with open(filename, 'w') as f:\n",
    "        for instance_id in id_list:\n",
    "            f.write(f\"{instance_id}\\n\")\n",
    "\n",
    "def load_ids(filename):\n",
    "    with open(filename, 'r') as f:\n",
    "        return [line.strip() for line in f.readlines()]\n",
    "\n",
    "N_PYLINT_MESSAGES_SHOWN_TO_AGENT = 20\n",
    "\n",
    "chosen_ids = load_ids('data/chosen_sane_instances.txt')"
   ]
  },
  {
   "cell_type": "code",
   "execution_count": 2,
   "metadata": {
    "vscode": {
     "languageId": "shellscript"
    }
   },
   "outputs": [],
   "source": [
    "IGNORE_IDS = [\n",
    "    'E0401',  # Unable to import\n",
    "    'W0511',  # TODO\n",
    "]\n",
    "\n",
    "def filter_pylint_output(pylint_output, keep_types=['error', 'warning', 'fatal'], max=None):\n",
    "    output = []\n",
    "    n_so_far = 0\n",
    "\n",
    "    for file_output in pylint_output:\n",
    "        new_output = file_output.copy()\n",
    "        new_output['messages'] = [\n",
    "            i for i in file_output['messages']\n",
    "            if (i['type'] in keep_types\n",
    "                and i['message-id'] not in IGNORE_IDS)\n",
    "        ]\n",
    "        if max and len(new_output['messages']) - n_so_far > max:\n",
    "            new_output['messages'] = new_output['messages'][:max - n_so_far]\n",
    "\n",
    "        n_so_far += len(new_output['messages'])\n",
    "        # get rid of the counts fields\n",
    "        to_delete = [k for k in new_output if k.endswith('count')]\n",
    "        for k in to_delete:\n",
    "            del new_output[k]\n",
    "        output.append(new_output)\n",
    "\n",
    "        if max and n_so_far >= max:\n",
    "            break\n",
    "\n",
    "    return output\n",
    "\n",
    "def get_filtered_pylint_output(pylint_output):\n",
    "    return filter_pylint_output(pylint_output, keep_types=['warning', 'error', 'fatal'], max=N_PYLINT_MESSAGES_SHOWN_TO_AGENT)\n",
    "\n",
    "def add_pylint_feedback_to_tasks():\n",
    "    for task in tasks:\n",
    "        instance_id = task['instance_id']\n",
    "        pylint_path = f'gc_results/sweb-style-review/{instance_id}/run_evaluation/style_check2/gold/{instance_id}_styleReview/pylint_errors.json'\n",
    "\n",
    "        if not os.path.exists(pylint_path):\n",
    "            continue\n",
    "\n",
    "        try:\n",
    "            with open(pylint_path, 'r') as f:\n",
    "                pylint_output = json.load(f)\n",
    "        except JSONDecodeError as e:\n",
    "            print(f'JSONDecodeError for {instance_id}')\n",
    "            continue\n",
    "\n",
    "        filtered_pylint_output = get_filtered_pylint_output(pylint_output)\n",
    "        task['style_review'] = filtered_pylint_output\n",
    "\n",
    "def create_style_review_task(task, pylint_output_path):\n",
    "    \"\"\"\n",
    "    pylint_output_path: path to the pylint_errors.json file\n",
    "    \"\"\"\n",
    "\n",
    "    task = task.copy()\n",
    "    with open(pylint_output_path, 'r') as f:\n",
    "        pylint_output = json.load(f)\n",
    "\n",
    "    pylint_output = get_filtered_pylint_output(pylint_output)\n",
    "    problem_statement = \"\"\"<pylint_output>\n",
    "{pylint_output}\n",
    "</pylint_output>\"\"\"\n",
    "\n",
    "    task['problem_statement'] = problem_statement.format(\n",
    "        pylint_output=json.dumps(pylint_output, indent=2)\n",
    "    )\n",
    "\n",
    "    return task\n",
    "\n",
    "from json.decoder import JSONDecodeError\n",
    "\n",
    "def create_style_review_dataset():\n",
    "    sr_tasks = []\n",
    "    for task in tasks:\n",
    "        instance_id = task['instance_id']\n",
    "        pylint_path = f'/Users/simon/Downloads/sr2/sweb-style-review/{instance_id}/run_evaluation/style_check2/gold/{instance_id}_styleReview/pylint_errors.json'\n",
    "\n",
    "        if not os.path.exists(pylint_path):\n",
    "            continue\n",
    "\n",
    "        try:\n",
    "            sr_task = create_style_review_task(task, pylint_path)\n",
    "        except JSONDecodeError as e:\n",
    "            print(f'JSONDecodeError for {instance_id}')\n",
    "            continue\n",
    "        sr_tasks.append(sr_task)\n",
    "\n",
    "    print(len(sr_tasks), \"style review tasks created\")\n",
    "    # write to file\n",
    "    with open('data/sweagent_style_review_instances.json', 'w') as f:\n",
    "        json.dump(sr_tasks, f, indent=2)\n",
    "\n",
    "def calculate_sweagent_score(old_pylint_report, new_pylint_report, test_report=None, max_fixable=None):\n",
    "    \"\"\"\n",
    "    Score is calculated as 1(tests_passed) * min(1, n_fixed / max_fixable))\n",
    "    where tests_passed is 1 if the new patch passed tests, and n_fixed is the number of pylint messages resolved.\n",
    "    max_fixable is the maximum number of messages that can be fixed (the number given to the model to fix)\n",
    "\n",
    "    Returns old_n, new_n, score where old_n and new_n are the number of messages in the old and new pylint files respectively.\n",
    "    \"\"\"\n",
    "    def n_messages(report):\n",
    "        return sum(len(file['messages']) for file in report)\n",
    "\n",
    "    old_n = n_messages(old_pylint_report)\n",
    "    new_n = n_messages(new_pylint_report)\n",
    "\n",
    "    tests_passed = test_report['resolved'] if test_report else 1\n",
    "    max_fixable = max_fixable if max_fixable else old_n\n",
    "\n",
    "    n_resolved = old_n - new_n\n",
    "    score = tests_passed * (n_resolved / max_fixable)\n",
    "    score = max(0., min(1., score))\n",
    "\n",
    "    return old_n, new_n, score"
   ]
  },
  {
   "cell_type": "code",
   "execution_count": 171,
   "metadata": {
    "vscode": {
     "languageId": "shellscript"
    }
   },
   "outputs": [],
   "source": [
    "def import_sr_results_gold(path, run_id):\n",
    "    sr_results = {}\n",
    "    for folder in os.listdir(path):\n",
    "        if folder not in instance_ids:\n",
    "            continue\n",
    "\n",
    "        instance_id = folder\n",
    "        results_path = f'{path}/{folder}/run_evaluation/{run_id}/gold/{instance_id}_styleReview/pylint_errors.json'\n",
    "        try:\n",
    "            with open(results_path, 'r') as f:\n",
    "                pylint_output = json.load(f)\n",
    "        except FileNotFoundError:\n",
    "            # print(f\"File not found: {results_path}\")\n",
    "            continue\n",
    "        except json.JSONDecodeError:\n",
    "            # print(f\"Error decoding JSON in file: {results_path}\")\n",
    "            continue\n",
    "\n",
    "        sr_results[instance_id] = pylint_output\n",
    "\n",
    "    return sr_results\n",
    "\n",
    "def import_sr_results_nongold(path, run_id):\n",
    "    sr_results = {}\n",
    "    for folder in os.listdir(path):\n",
    "        if folder not in instance_ids:\n",
    "            continue\n",
    "\n",
    "        instance_id = folder\n",
    "        results_path = f'{path}/{folder}/run_evaluation/{run_id}/logs/{instance_id}_styleReview/pylint_errors.json'\n",
    "        try:\n",
    "            with open(results_path, 'r') as f:\n",
    "                pylint_output = json.load(f)\n",
    "        except FileNotFoundError:\n",
    "            # print(f\"File not found: {results_path}\")\n",
    "            continue\n",
    "        except json.JSONDecodeError:\n",
    "            # print(f\"Error decoding JSON in file: {results_path}\")\n",
    "            continue\n",
    "\n",
    "        sr_results[instance_id] = pylint_output\n",
    "\n",
    "    return sr_results\n",
    "\n",
    "def import_sweagent_bugfixing_results(path, run_id):\n",
    "    \"\"\"\n",
    "    Import the results from the style review.\n",
    "    \"\"\"\n",
    "    sr_results = {}\n",
    "    for folder in os.listdir(path):\n",
    "        if folder not in instance_ids:\n",
    "            continue\n",
    "\n",
    "        instance_id = folder\n",
    "        results_paths = [\n",
    "            f'{path}/{folder}/run_evaluation/{run_id}/logs/{instance_id}/report.json',\n",
    "            f'{path}/{folder}/logs/run_evaluation/{run_id}/logs/{instance_id}/report.json'\n",
    "        ]\n",
    "\n",
    "        for results_path in results_paths:\n",
    "            if os.path.exists(results_path) and (os.stat(results_path).st_size > 0):\n",
    "                try:\n",
    "                    with open(results_path, 'r') as f:\n",
    "                        report = json.load(f)\n",
    "                except FileNotFoundError:\n",
    "                    # print(f\"File not found: {results_path}\")\n",
    "                    continue\n",
    "                except json.JSONDecodeError:\n",
    "                    # print(f\"Error decoding JSON in file: {results_path}\")\n",
    "                    continue\n",
    "\n",
    "                sr_results[instance_id] = report[instance_id]\n",
    "\n",
    "    return sr_results\n",
    "\n",
    "\n",
    "def load_sweagent_results(path):\n",
    "    results = {}\n",
    "    # look at sweagent results\n",
    "    for instance_id in os.listdir(path):\n",
    "        if instance_id not in instance_ids:\n",
    "            continue\n",
    "\n",
    "        possible_paths = [\n",
    "            f'{path}/{instance_id}/all_preds.jsonl',\n",
    "            f'{path}/{instance_id}/logs/all_preds.jsonl',\n",
    "        ]\n",
    "        for all_preds_path in possible_paths:\n",
    "            if instance_id in results:\n",
    "                continue\n",
    "\n",
    "            if os.path.exists(all_preds_path) and (os.stat(all_preds_path).st_size > 0):\n",
    "                try:\n",
    "                    with open(all_preds_path, 'r') as f:\n",
    "                        preds = json.load(f)\n",
    "                except json.JSONDecodeError:\n",
    "                    continue\n",
    "\n",
    "                # not sure why this is the format lol but whatever\n",
    "                assert type(preds['model_patch']) == dict\n",
    "                if preds['model_patch'] is None:\n",
    "                    continue\n",
    "\n",
    "                if type(preds['model_patch']) == dict:\n",
    "                    preds= preds['model_patch']\n",
    "\n",
    "                if pred['model_patch'] is None:\n",
    "                    continue\n",
    "\n",
    "                results[instance_id] = preds\n",
    "\n",
    "    return results"
   ]
  },
  {
   "cell_type": "code",
   "execution_count": 137,
   "metadata": {
    "vscode": {
     "languageId": "shellscript"
    }
   },
   "outputs": [
    {
     "name": "stdout",
     "output_type": "stream",
     "text": [
      "610\n",
      "602\n",
      "591\n",
      "7 603\n",
      "1\n",
      "12\n"
     ]
    }
   ],
   "source": [
    "sr_results = import_sr_results_gold('gc_results/sweb-style-review', run_id='style_check2')\n",
    "print(len(sr_results))\n",
    "good_ids = [id for id in instance_ids if id in sr_results]\n",
    "\n",
    "sweagent_sr_check_results = import_sr_results_nongold('gc_results/sweb-sweagent-sr-check', run_id='sweagent_sr_check')\n",
    "print(len(sweagent_sr_check_results))\n",
    "\n",
    "sweagent_sr_bf_check_results = import_sweagent_bugfixing_results('gc_results/sweb-sweagent-sr-bf-check', run_id='sweagent_sr_bf_check')\n",
    "print(len(sweagent_sr_bf_check_results))\n",
    "\n",
    "sweagent_results = load_sweagent_results('gc_results/sweb-sweagent-sr')\n",
    "still_need_sr_agent_ids = [id for id in good_ids if id not in sweagent_results]\n",
    "sweagent_sr_done_ids = [id for id in good_ids if id in sweagent_results]\n",
    "\n",
    "print(len(still_need_sr_agent_ids), len(sweagent_sr_done_ids))\n",
    "save_ids(still_need_sr_agent_ids, 'ids/still_need_sr_agent_ids.txt')\n",
    "save_ids(sweagent_sr_done_ids, 'ids/sweagent_sr_done_ids.txt')\n",
    "\n",
    "still_need_sweagent_sr_check_ids = [id for id in good_ids if id not in sweagent_sr_check_results and id not in still_need_sr_agent_ids]\n",
    "print(len(still_need_sweagent_sr_check_ids))\n",
    "save_ids(still_need_sweagent_sr_check_ids, 'ids/still_need_sweagent_sr_check_ids.txt')\n",
    "\n",
    "still_need_sweagent_sr_bf_check_ids = [id for id in good_ids if id not in sweagent_sr_bf_check_results and id not in still_need_sr_agent_ids]\n",
    "print(len(still_need_sweagent_sr_bf_check_ids))\n",
    "save_ids(still_need_sweagent_sr_bf_check_ids, 'ids/still_need_sweagent_sr_bf_check_ids.txt')"
   ]
  },
  {
   "cell_type": "code",
   "execution_count": 94,
   "metadata": {
    "vscode": {
     "languageId": "shellscript"
    }
   },
   "outputs": [],
   "source": [
    "def save_sweagent_preds(sweagent_results, filename):\n",
    "    # create one big all_preds.jsonl file with the results\n",
    "    with open(filename, 'w') as f:\n",
    "        for instance_id in sweagent_results:\n",
    "            pred = sweagent_results[instance_id]\n",
    "            f.write(json.dumps(pred) + \"\\n\")\n",
    "\n",
    "# save_sweagent_preds(sweagent_results, 'gc_results/sweagent_preds/sweagent_sr_all_preds.jsonl')"
   ]
  },
  {
   "cell_type": "code",
   "execution_count": 76,
   "metadata": {
    "vscode": {
     "languageId": "shellscript"
    }
   },
   "outputs": [],
   "source": [
    "def save_overall_results():\n",
    "    # saving the overall results\n",
    "    # instance_id: original_style_review, sweagent_patch, new_style_review, report, score\n",
    "    overall_results = {}\n",
    "    have_all_ids = [id for id in good_ids if all([id in r for r in [sweagent_sr_check_results, sweagent_sr_bf_check_results, sweagent_results]])]\n",
    "    # have_all_ids = [id for id in good_ids if all([id in r for r in [sweagent_sr_check_results, sweagent_results]])]\n",
    "    for instance_id in have_all_ids:\n",
    "        original_style_review_report = sr_results[instance_id]\n",
    "        sweagent_patch = sweagent_results[instance_id]\n",
    "        new_style_review_report = sweagent_sr_check_results[instance_id]\n",
    "        test_report = sweagent_sr_bf_check_results[instance_id] if instance_id in sweagent_sr_bf_check_results else None\n",
    "        max_fixable = N_PYLINT_MESSAGES_SHOWN_TO_AGENT\n",
    "        old_n, new_n, score = calculate_sweagent_score(original_style_review_report, new_style_review_report, test_report, max_fixable=max_fixable)\n",
    "        old_n, new_n, score_ignore_resolved = calculate_sweagent_score(original_style_review_report, new_style_review_report, test_report=None, max_fixable=max_fixable)\n",
    "\n",
    "        overall_results[instance_id] = {\n",
    "            'original_style_review_report': original_style_review_report,\n",
    "            'sweagent_patch': sweagent_patch,\n",
    "            'new_style_review_report': new_style_review_report,\n",
    "            'test_report': test_report,\n",
    "            'old_n_messages': old_n,\n",
    "            'new_n_messages': new_n,\n",
    "            'max_fixable': max_fixable,\n",
    "            # 'resolved': test_report['resolved'],\n",
    "            'resolved': \"N/A\",\n",
    "            'score': score,\n",
    "            'score_ignore_resolved': score_ignore_resolved,\n",
    "            'score_formula': f\"1(resolved) * min(1, ((old_n_messages - new_n_messages) / max_fixable))\",\n",
    "        }\n",
    "\n",
    "    print(len(overall_results))\n",
    "\n",
    "    with open('sweagent_style_review_results.json', 'w') as f:\n",
    "        json.dump(overall_results, f, indent=2)"
   ]
  },
  {
   "cell_type": "code",
   "execution_count": 77,
   "metadata": {
    "vscode": {
     "languageId": "shellscript"
    }
   },
   "outputs": [],
   "source": [
    "# overall_score = sum([r['score'] for r in overall_results.values()]) / len(overall_results)\n",
    "# overall_score_ignore_resolved = sum([r['score_ignore_resolved'] for r in overall_results.values()]) / len(overall_results)\n",
    "# print(f\"Overall score: {overall_score:.3f}\")\n",
    "# print(f\"Overall score ignoring whether resolved: {overall_score_ignore_resolved:.3f}\")"
   ]
  },
  {
   "cell_type": "code",
   "execution_count": 78,
   "metadata": {
    "vscode": {
     "languageId": "shellscript"
    }
   },
   "outputs": [],
   "source": [
    "# with open('sweagent_style_review_results.json', 'r') as f:\n",
    "#     overall_results = json.load(f)"
   ]
  },
  {
   "cell_type": "code",
   "execution_count": 79,
   "metadata": {
    "vscode": {
     "languageId": "shellscript"
    }
   },
   "outputs": [],
   "source": [
    "chosen_ids = load_ids('data/chosen_sane_instances.txt')"
   ]
  },
  {
   "cell_type": "code",
   "execution_count": 140,
   "metadata": {
    "vscode": {
     "languageId": "shellscript"
    }
   },
   "outputs": [],
   "source": [
    "def split_into_n(lst, n):\n",
    "    \"\"\"\n",
    "    Split *lst* into *n* nearly equal parts (size difference ≤ 1), preserving order.\n",
    "    \"\"\"\n",
    "    if n <= 0:\n",
    "        raise ValueError(\"n must be positive\")\n",
    "    k, m = divmod(len(lst), n)          # k = base size, m = 1‑extra chunks\n",
    "    parts, start = [], 0\n",
    "    for i in range(n):\n",
    "        end = start + k + (i < m)       # first *m* parts get one extra element\n",
    "        parts.append(lst[start:end])\n",
    "        start = end\n",
    "    return parts"
   ]
  },
  {
   "cell_type": "code",
   "execution_count": 141,
   "metadata": {
    "vscode": {
     "languageId": "shellscript"
    }
   },
   "outputs": [],
   "source": [
    "def save_n_lists(id_list, n, filename):\n",
    "    # save n lists of ids to a file\n",
    "    lsts = split_into_n(id_list, n)\n",
    "    for i in range(n):\n",
    "        save_ids(lsts[i], f'{filename}{i}.txt')"
   ]
  },
  {
   "cell_type": "markdown",
   "metadata": {
    "vscode": {
     "languageId": "shellscript"
    }
   },
   "source": [
    "# 1. llama style review"
   ]
  },
  {
   "cell_type": "code",
   "execution_count": 174,
   "metadata": {
    "vscode": {
     "languageId": "shellscript"
    }
   },
   "outputs": [
    {
     "name": "stdout",
     "output_type": "stream",
     "text": [
      "285\n"
     ]
    }
   ],
   "source": [
    "sweagent_results_llama = load_sweagent_results('gc_results/sweb-sweagent-sr-llama')\n",
    "print(len(sweagent_results_llama))\n",
    "save_sweagent_preds(sweagent_results_llama, 'gc_results/sweagent_preds/sweagent_sr_llama_all_preds.jsonl')"
   ]
  },
  {
   "cell_type": "code",
   "execution_count": 166,
   "metadata": {
    "vscode": {
     "languageId": "shellscript"
    }
   },
   "outputs": [
    {
     "name": "stdout",
     "output_type": "stream",
     "text": [
      "15 285\n"
     ]
    }
   ],
   "source": [
    "still_need_sr_agent_ids_llama = [id for id in chosen_ids if id not in sweagent_results_llama]\n",
    "sweagent_sr_done_ids_llama = [id for id in chosen_ids if id in sweagent_results_llama]\n",
    "\n",
    "print(len(still_need_sr_agent_ids_llama), len(sweagent_sr_done_ids_llama))\n",
    "save_ids(still_need_sr_agent_ids_llama, 'ids/still_need_sr_agent_ids_llama.txt')\n",
    "save_ids(sweagent_sr_done_ids_llama, 'ids/sweagent_sr_done_ids_llama.txt')"
   ]
  },
  {
   "cell_type": "code",
   "execution_count": 170,
   "metadata": {
    "vscode": {
     "languageId": "shellscript"
    }
   },
   "outputs": [
    {
     "name": "stdout",
     "output_type": "stream",
     "text": [
      "0\n",
      "195\n"
     ]
    }
   ],
   "source": [
    "sweagent_sr_check_results_llama = import_sr_results_nongold('gc_results/sweb-sweagent-sr-check-llama', run_id='sweagent_sr_llama_check')\n",
    "print(len(sweagent_sr_check_results_llama))\n",
    "\n",
    "sweagent_sr_bf_check_results_llama = import_sweagent_bugfixing_results('gc_results/sweb-sweagent-sr-bf-check-llama', run_id='sweagent_sr_bf_llama_check')\n",
    "print(len(sweagent_sr_bf_check_results_llama))"
   ]
  },
  {
   "cell_type": "code",
   "execution_count": 143,
   "metadata": {
    "vscode": {
     "languageId": "shellscript"
    }
   },
   "outputs": [
    {
     "name": "stdout",
     "output_type": "stream",
     "text": [
      "285\n",
      "285\n"
     ]
    }
   ],
   "source": [
    "still_need_sweagent_sr_check_ids_llama = [id for id in chosen_ids if id not in sweagent_sr_check_results_llama and id not in still_need_sr_agent_ids_llama]\n",
    "print(len(still_need_sweagent_sr_check_ids_llama))\n",
    "save_ids(still_need_sweagent_sr_check_ids_llama, 'ids/still_need_sweagent_sr_check_ids_llama.txt')\n",
    "\n",
    "still_need_sweagent_sr_bf_check_ids_llama = [id for id in chosen_ids if id not in sweagent_sr_bf_check_results_llama and id not in still_need_sr_agent_ids_llama]\n",
    "print(len(still_need_sweagent_sr_bf_check_ids_llama))\n",
    "save_ids(still_need_sweagent_sr_bf_check_ids_llama, 'ids/still_need_sweagent_sr_bf_check_ids_llama.txt')\n",
    "\n",
    "save_n_lists(still_need_sweagent_sr_check_ids_llama, 4, 'ids/still_need_sweagent_sr_check_ids_llama')\n",
    "save_n_lists(still_need_sweagent_sr_bf_check_ids_llama, 4, 'ids/still_need_sweagent_sr_bf_check_ids_llama')"
   ]
  },
  {
   "cell_type": "markdown",
   "metadata": {
    "vscode": {
     "languageId": "shellscript"
    }
   },
   "source": [
    "# review addressal gemini"
   ]
  },
  {
   "cell_type": "code",
   "execution_count": 163,
   "metadata": {
    "vscode": {
     "languageId": "shellscript"
    }
   },
   "outputs": [
    {
     "data": {
      "text/plain": [
       "262"
      ]
     },
     "execution_count": 163,
     "metadata": {},
     "output_type": "execute_result"
    }
   ],
   "source": [
    "sweagent_review_results = load_sweagent_results('gc_results/sweb-sweagent-rf')\n",
    "save_sweagent_preds(sweagent_review_results, 'gc_results/sweagent_preds/sweagent_rf_all_preds.jsonl')\n",
    "len(sweagent_review_results)"
   ]
  },
  {
   "cell_type": "code",
   "execution_count": 164,
   "metadata": {
    "vscode": {
     "languageId": "shellscript"
    }
   },
   "outputs": [
    {
     "name": "stdout",
     "output_type": "stream",
     "text": [
      "38 262\n",
      "251\n",
      "11\n"
     ]
    }
   ],
   "source": [
    "still_need_rf_agent_ids = [id for id in chosen_ids if id not in sweagent_review_results]\n",
    "sweagent_rf_done_ids = [id for id in chosen_ids if id in sweagent_review_results]\n",
    "\n",
    "print(len(still_need_rf_agent_ids), len(sweagent_rf_done_ids))\n",
    "save_ids(still_need_rf_agent_ids, 'ids/still_need_rf_agent_ids.txt')\n",
    "save_ids(sweagent_rf_done_ids, 'ids/sweagent_rf_done_ids.txt')\n",
    "\n",
    "sweagent_rf_check_results = import_sweagent_bugfixing_results('gc_results/sweb-sweagent-rf-check', run_id='sweagent_rf_check')\n",
    "print(len(sweagent_rf_check_results))\n",
    "\n",
    "still_need_sweagent_rf_check_ids = [id for id in chosen_ids if id not in sweagent_rf_check_results and id not in still_need_rf_agent_ids]\n",
    "print(len(still_need_sweagent_rf_check_ids))\n",
    "save_ids(still_need_sweagent_rf_check_ids, 'ids/still_need_sweagent_rf_check_ids.txt')\n",
    "\n",
    "save_n_lists(still_need_sweagent_rf_check_ids, 4, 'ids/still_need_sweagent_rf_check_ids')"
   ]
  },
  {
   "cell_type": "markdown",
   "metadata": {
    "vscode": {
     "languageId": "shellscript"
    }
   },
   "source": [
    "# review addressal llama"
   ]
  },
  {
   "cell_type": "code",
   "execution_count": 150,
   "metadata": {
    "vscode": {
     "languageId": "shellscript"
    }
   },
   "outputs": [
    {
     "name": "stdout",
     "output_type": "stream",
     "text": [
      "269\n"
     ]
    }
   ],
   "source": [
    "sweagent_review_results_llama = load_sweagent_results('gc_results/sweb-sweagent-rf-llama')\n",
    "print(len(sweagent_review_results_llama))\n",
    "save_sweagent_preds(sweagent_review_results_llama, 'gc_results/sweagent_preds/sweagent_rf_llama_all_preds.jsonl')"
   ]
  },
  {
   "cell_type": "code",
   "execution_count": 151,
   "metadata": {
    "vscode": {
     "languageId": "shellscript"
    }
   },
   "outputs": [
    {
     "name": "stdout",
     "output_type": "stream",
     "text": [
      "31 269\n",
      "0\n",
      "269\n"
     ]
    }
   ],
   "source": [
    "still_need_rf_agent_ids_llama = [id for id in chosen_ids if id not in sweagent_review_results_llama]\n",
    "sweagent_rf_done_ids_llama = [id for id in chosen_ids if id in sweagent_review_results_llama]\n",
    "\n",
    "save_n_lists(still_need_rf_agent_ids_llama, 4, 'ids/still_need_rf_agent_ids_llama')\n",
    "\n",
    "print(len(still_need_rf_agent_ids_llama), len(sweagent_rf_done_ids_llama))\n",
    "save_ids(still_need_rf_agent_ids_llama, 'ids/still_need_rf_agent_ids_llama.txt')\n",
    "save_ids(sweagent_rf_done_ids_llama, 'ids/sweagent_rf_done_ids_llama.txt')\n",
    "\n",
    "sweagent_rf_check_results_llama = []\n",
    "# sweagent_rf_check_results_llama = import_sweagent_bugfixing_results('gc_results/sweb-sweagent-rf-check_llama', run_id='sweagent_rf_check_llama')\n",
    "print(len(sweagent_rf_check_results_llama))\n",
    "\n",
    "still_need_sweagent_rf_check_ids_llama = [id for id in chosen_ids if id not in sweagent_rf_check_results_llama and id not in still_need_rf_agent_ids_llama]\n",
    "print(len(still_need_sweagent_rf_check_ids_llama))\n",
    "save_ids(still_need_sweagent_rf_check_ids_llama, 'ids/still_need_sweagent_rf_check_ids_llama.txt')"
   ]
  },
  {
   "cell_type": "code",
   "execution_count": null,
   "metadata": {
    "vscode": {
     "languageId": "shellscript"
    }
   },
   "outputs": [],
   "source": []
  }
 ],
 "metadata": {
  "kernelspec": {
   "display_name": "codearena",
   "language": "python",
   "name": "python3"
  },
  "language_info": {
   "codemirror_mode": {
    "name": "ipython",
    "version": 3
   },
   "file_extension": ".py",
   "mimetype": "text/x-python",
   "name": "python",
   "nbconvert_exporter": "python",
   "pygments_lexer": "ipython3",
   "version": "3.12.8"
  }
 },
 "nbformat": 4,
 "nbformat_minor": 2
}
