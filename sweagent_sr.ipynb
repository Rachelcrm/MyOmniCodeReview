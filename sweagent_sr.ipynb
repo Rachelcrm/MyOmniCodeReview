{
 "cells": [
  {
   "cell_type": "code",
   "execution_count": 5,
   "metadata": {
    "vscode": {
     "languageId": "shellscript"
    }
   },
   "outputs": [],
   "source": [
    "import json\n",
    "import os\n",
    "\n",
    "with open('data/codearena_instances.json') as f:\n",
    "    tasks = json.load(f)\n",
    "\n",
    "instance_ids = [t['instance_id'] for t in tasks]\n",
    "\n",
    "def get_task(instance_id):\n",
    "    return [t for t in tasks if t['instance_id'] == instance_id][0]\n",
    "\n",
    "yt_ids = [t['instance_id'] for t in tasks if 'youtube' in t['instance_id']]\n",
    "\n",
    "def save_ids(id_list, filename):\n",
    "    with open(filename, 'w') as f:\n",
    "        for instance_id in id_list:\n",
    "            f.write(f\"{instance_id}\\n\")\n",
    "\n",
    "def load_ids(filename):\n",
    "    with open(filename, 'r') as f:\n",
    "        return [line.strip() for line in f.readlines()]\n",
    "\n",
    "N_PYLINT_MESSAGES_SHOWN_TO_AGENT = 20"
   ]
  },
  {
   "cell_type": "code",
   "execution_count": 2,
   "metadata": {
    "vscode": {
     "languageId": "shellscript"
    }
   },
   "outputs": [],
   "source": [
    "IGNORE_IDS = [\n",
    "    'E0401',  # Unable to import\n",
    "    'W0511',  # TODO\n",
    "]\n",
    "def filter_pylint_output(pylint_output, keep_types=['error', 'warning', 'fatal'], max=None):\n",
    "    output = []\n",
    "    n_so_far = 0\n",
    "\n",
    "    for file_output in pylint_output:\n",
    "        new_output = file_output.copy()\n",
    "        new_output['messages'] = [\n",
    "            i for i in file_output['messages']\n",
    "            if (i['type'] in keep_types\n",
    "                and i['message-id'] not in IGNORE_IDS)\n",
    "        ]\n",
    "        if max and len(new_output['messages']) - n_so_far > max:\n",
    "            new_output['messages'] = new_output['messages'][:max - n_so_far]\n",
    "\n",
    "        n_so_far += len(new_output['messages'])\n",
    "        # get rid of the counts fields\n",
    "        to_delete = [k for k in new_output if k.endswith('count')]\n",
    "        for k in to_delete:\n",
    "            del new_output[k]\n",
    "        output.append(new_output)\n",
    "\n",
    "        if max and n_so_far >= max:\n",
    "            break\n",
    "\n",
    "    return output"
   ]
  },
  {
   "cell_type": "code",
   "execution_count": null,
   "metadata": {
    "vscode": {
     "languageId": "shellscript"
    }
   },
   "outputs": [],
   "source": [
    "def create_style_review_task(task, pylint_output_path):\n",
    "    \"\"\"\n",
    "    pylint_output_path: path to the pylint_errors.json file\n",
    "    \"\"\"\n",
    "\n",
    "    task = task.copy()\n",
    "    with open(pylint_output_path, 'r') as f:\n",
    "        pylint_output = json.load(f)\n",
    "\n",
    "    pylint_output = filter_pylint_output(pylint_output, keep_types=['warning', 'error', 'fatal'], max=N_PYLINT_MESSAGES_SHOWN_TO_AGENT)\n",
    "    problem_statement = \"\"\"<pylint_output>\n",
    "{pylint_output}\n",
    "</pylint_output>\"\"\"\n",
    "\n",
    "    task['problem_statement'] = problem_statement.format(\n",
    "        pylint_output=json.dumps(pylint_output, indent=2)\n",
    "    )\n",
    "\n",
    "    return task\n"
   ]
  },
  {
   "cell_type": "code",
   "execution_count": 4,
   "metadata": {
    "vscode": {
     "languageId": "shellscript"
    }
   },
   "outputs": [],
   "source": [
    "from json.decoder import JSONDecodeError\n",
    "\n",
    "def create_style_review_dataset():\n",
    "    sr_tasks = []\n",
    "    for task in tasks:\n",
    "        instance_id = task['instance_id']\n",
    "        pylint_path = f'/Users/simon/Downloads/sr2/sweb-style-review/{instance_id}/run_evaluation/style_check2/gold/{instance_id}_styleReview/pylint_errors.json'\n",
    "\n",
    "        if not os.path.exists(pylint_path):\n",
    "            continue\n",
    "\n",
    "        try:\n",
    "            sr_task = create_style_review_task(task, pylint_path)\n",
    "        except JSONDecodeError as e:\n",
    "            print(f'JSONDecodeError for {instance_id}')\n",
    "            continue\n",
    "        sr_tasks.append(sr_task)\n",
    "\n",
    "    print(len(sr_tasks), \"style review tasks created\")\n",
    "    # write to file\n",
    "    with open('data/sweagent_style_review_instances.json', 'w') as f:\n",
    "        json.dump(sr_tasks, f, indent=2)\n"
   ]
  },
  {
   "cell_type": "code",
   "execution_count": 123,
   "metadata": {
    "vscode": {
     "languageId": "shellscript"
    }
   },
   "outputs": [],
   "source": [
    "def calculate_sweagent_score(old_pylint_report, new_pylint_report, test_report=None, max_fixable=None):\n",
    "    \"\"\"\n",
    "    Score is calculated as 1(tests_passed) * min(1, n_fixed / max_fixable))\n",
    "    where tests_passed is 1 if the new patch passed tests, and n_fixed is the number of pylint messages resolved.\n",
    "    max_fixable is the maximum number of messages that can be fixed (the number given to the model to fix)\n",
    "\n",
    "    Returns old_n, new_n, score where old_n and new_n are the number of messages in the old and new pylint files respectively.\n",
    "    \"\"\"\n",
    "    def n_messages(report):\n",
    "        return sum(len(file['messages']) for file in report)\n",
    "\n",
    "    old_n = n_messages(old_pylint_report)\n",
    "    new_n = n_messages(new_pylint_report)\n",
    "\n",
    "    tests_passed = test_report['resolved'] if test_report else 1\n",
    "    max_fixable = max_fixable if max_fixable else old_n\n",
    "\n",
    "    n_resolved = old_n - new_n\n",
    "    score = tests_passed * (n_resolved / max_fixable)\n",
    "    score = max(0., min(1., score))\n",
    "\n",
    "    return old_n, new_n, score"
   ]
  },
  {
   "cell_type": "code",
   "execution_count": 42,
   "metadata": {
    "vscode": {
     "languageId": "shellscript"
    }
   },
   "outputs": [],
   "source": [
    "def import_sr_results_gold(path, run_id):\n",
    "    sr_results = {}\n",
    "    for folder in os.listdir(path):\n",
    "        if folder not in instance_ids:\n",
    "            continue\n",
    "\n",
    "        instance_id = folder\n",
    "        results_path = f'{path}/{folder}/run_evaluation/{run_id}/gold/{instance_id}_styleReview/pylint_errors.json'\n",
    "        try:\n",
    "            with open(results_path, 'r') as f:\n",
    "                pylint_output = json.load(f)\n",
    "        except FileNotFoundError:\n",
    "            # print(f\"File not found: {results_path}\")\n",
    "            continue\n",
    "        except json.JSONDecodeError:\n",
    "            # print(f\"Error decoding JSON in file: {results_path}\")\n",
    "            continue\n",
    "\n",
    "        sr_results[instance_id] = pylint_output\n",
    "\n",
    "    return sr_results\n"
   ]
  },
  {
   "cell_type": "code",
   "execution_count": 43,
   "metadata": {
    "vscode": {
     "languageId": "shellscript"
    }
   },
   "outputs": [],
   "source": [
    "def import_sr_results_nongold(path, run_id):\n",
    "    sr_results = {}\n",
    "    for folder in os.listdir(path):\n",
    "        if folder not in instance_ids:\n",
    "            continue\n",
    "\n",
    "        instance_id = folder\n",
    "        results_path = f'{path}/{folder}/run_evaluation/{run_id}/logs/{instance_id}_styleReview/pylint_errors.json'\n",
    "        try:\n",
    "            with open(results_path, 'r') as f:\n",
    "                pylint_output = json.load(f)\n",
    "        except FileNotFoundError:\n",
    "            # print(f\"File not found: {results_path}\")\n",
    "            continue\n",
    "        except json.JSONDecodeError:\n",
    "            # print(f\"Error decoding JSON in file: {results_path}\")\n",
    "            continue\n",
    "\n",
    "        sr_results[instance_id] = pylint_output\n",
    "\n",
    "    return sr_results\n"
   ]
  },
  {
   "cell_type": "code",
   "execution_count": 58,
   "metadata": {
    "vscode": {
     "languageId": "shellscript"
    }
   },
   "outputs": [],
   "source": [
    "def import_sweagent_bugfixing_results(path, run_id):\n",
    "    \"\"\"\n",
    "    Import the results from the style review.\n",
    "    \"\"\"\n",
    "    sr_results = {}\n",
    "    for folder in os.listdir(path):\n",
    "        if folder not in instance_ids:\n",
    "            continue\n",
    "\n",
    "        instance_id = folder\n",
    "        results_path = f'{path}/{folder}/run_evaluation/{run_id}/logs/{instance_id}/report.json'\n",
    "        try:\n",
    "            with open(results_path, 'r') as f:\n",
    "                report = json.load(f)\n",
    "        except FileNotFoundError:\n",
    "            # print(f\"File not found: {results_path}\")\n",
    "            continue\n",
    "        except json.JSONDecodeError:\n",
    "            # print(f\"Error decoding JSON in file: {results_path}\")\n",
    "            continue\n",
    "\n",
    "        sr_results[instance_id] = report[instance_id]\n",
    "\n",
    "    return sr_results"
   ]
  },
  {
   "cell_type": "code",
   "execution_count": 17,
   "metadata": {
    "vscode": {
     "languageId": "shellscript"
    }
   },
   "outputs": [],
   "source": [
    "def load_sweagent_results(path):\n",
    "    results = {}\n",
    "    # look at sweagent results\n",
    "    for instance_id in os.listdir(path):\n",
    "        if instance_id not in instance_ids:\n",
    "            continue\n",
    "\n",
    "        all_preds_path = f'{path}/{instance_id}/all_preds.jsonl'\n",
    "        if not os.path.exists(all_preds_path) or (os.stat(all_preds_path).st_size == 0):\n",
    "            all_preds_path = f'{path}/{instance_id}/logs/all_preds.jsonl'\n",
    "\n",
    "            if not os.path.exists(all_preds_path) or (os.stat(all_preds_path).st_size == 0):\n",
    "                continue\n",
    "\n",
    "        try:\n",
    "            with open(all_preds_path, 'r') as f:\n",
    "                preds = json.load(f)\n",
    "        except json.JSONDecodeError:\n",
    "            print(f\"Error decoding JSON in file: {all_preds_path}\")\n",
    "            continue\n",
    "\n",
    "        # not sure why this is the format lol but whatever\n",
    "        assert type(preds['model_patch']) == dict\n",
    "        preds = preds['model_patch']\n",
    "\n",
    "        results[instance_id] = preds\n",
    "\n",
    "    return results"
   ]
  },
  {
   "cell_type": "code",
   "execution_count": 45,
   "metadata": {
    "vscode": {
     "languageId": "shellscript"
    }
   },
   "outputs": [],
   "source": [
    "sr_results = import_sr_results_gold('gc_results/sweb-style-review', run_id='style_check2')"
   ]
  },
  {
   "cell_type": "code",
   "execution_count": 46,
   "metadata": {
    "vscode": {
     "languageId": "shellscript"
    }
   },
   "outputs": [
    {
     "name": "stdout",
     "output_type": "stream",
     "text": [
      "610\n"
     ]
    }
   ],
   "source": [
    "good_ids = list(sr_results.keys())\n",
    "print(len(good_ids))\n",
    "# save_ids(good_ids, 'good_ids.txt')"
   ]
  },
  {
   "cell_type": "code",
   "execution_count": 113,
   "metadata": {
    "vscode": {
     "languageId": "shellscript"
    }
   },
   "outputs": [
    {
     "data": {
      "text/plain": [
       "602"
      ]
     },
     "execution_count": 113,
     "metadata": {},
     "output_type": "execute_result"
    }
   ],
   "source": [
    "sweagent_sr_check_results = import_sr_results_nongold('gc_results/sweb-sweagent-sr-check', run_id='sweagent_sr_check')\n",
    "len(sweagent_sr_check_results)"
   ]
  },
  {
   "cell_type": "code",
   "execution_count": 116,
   "metadata": {
    "vscode": {
     "languageId": "shellscript"
    }
   },
   "outputs": [
    {
     "data": {
      "text/plain": [
       "548"
      ]
     },
     "execution_count": 116,
     "metadata": {},
     "output_type": "execute_result"
    }
   ],
   "source": [
    "sweagent_sr_bf_check_results = import_sweagent_bugfixing_results('gc_results/sweb-sweagent-sr-bf-check', run_id='sweagent_sr_bf_check')\n",
    "len(sweagent_sr_bf_check_results)"
   ]
  },
  {
   "cell_type": "code",
   "execution_count": 117,
   "metadata": {
    "vscode": {
     "languageId": "shellscript"
    }
   },
   "outputs": [],
   "source": [
    "sweagent_results = load_sweagent_results('gc_results/sweb-sweagent-sr')"
   ]
  },
  {
   "cell_type": "code",
   "execution_count": 90,
   "metadata": {
    "vscode": {
     "languageId": "shellscript"
    }
   },
   "outputs": [
    {
     "name": "stdout",
     "output_type": "stream",
     "text": [
      "7 603\n"
     ]
    }
   ],
   "source": [
    "still_need_sr_agent_ids = [id for id in good_ids if id not in sweagent_results]\n",
    "sweagent_sr_done_ids = [id for id in good_ids if id in sweagent_results]\n",
    "\n",
    "print(len(still_need_sr_agent_ids), len(sweagent_sr_done_ids))\n",
    "save_ids(still_need_sr_agent_ids, 'still_need_sr_agent_ids.txt')\n",
    "save_ids(sweagent_sr_done_ids, 'sweagent_sr_done_ids.txt')"
   ]
  },
  {
   "cell_type": "code",
   "execution_count": 80,
   "metadata": {
    "vscode": {
     "languageId": "shellscript"
    }
   },
   "outputs": [
    {
     "name": "stdout",
     "output_type": "stream",
     "text": [
      "django__django-10097 does not have DockerPullError\n",
      "camel-ai__camel-1395 does not have DockerPullError\n",
      "camel-ai__camel-1368 does not have DockerPullError\n",
      "camel-ai__camel-1276 does not have DockerPullError\n",
      "camel-ai__camel-1259 does not have DockerPullError\n",
      "camel-ai__camel-1478 does not have DockerPullError\n",
      "django__django-7530 does not have DockerPullError\n"
     ]
    }
   ],
   "source": [
    "with_pull_error = []\n",
    "for id in still_need_sr_agent_ids:\n",
    "    # load the logs for each one\n",
    "    log_path = f'gc_results/sweb-sweagent-sr/{id}/logs/instance_{id}.log'\n",
    "    with open(log_path, 'r') as f:\n",
    "        log = f.read()\n",
    "\n",
    "    if 'DockerPullError' in log:\n",
    "        # print(f\"{id} has DockerPullError\")\n",
    "        with_pull_error.append(id)\n",
    "        # pass\n",
    "    else:\n",
    "        print(f\"{id} does not have DockerPullError\")\n",
    "        # print(log)"
   ]
  },
  {
   "cell_type": "code",
   "execution_count": 20,
   "metadata": {
    "vscode": {
     "languageId": "shellscript"
    }
   },
   "outputs": [],
   "source": [
    "DOCKER_PAT = os.environ.get('DOCKER_PAT')\n",
    "\n",
    "import time, requests\n",
    "\n",
    "def docker_image_exists(tag, retries=5, delay=1, backoff=2):\n",
    "    auth = ('sca63', DOCKER_PAT)\n",
    "    url  = f\"https://registry.hub.docker.com/v2/repositories/sca63/codearena/tags/{tag}\"\n",
    "\n",
    "    for attempt in range(retries + 1):\n",
    "        r = requests.get(url, auth=auth)\n",
    "        if r.status_code == 200:\n",
    "            return True\n",
    "        if r.status_code == 404:\n",
    "            return False\n",
    "        if r.status_code == 429:\n",
    "            if attempt < retries:\n",
    "                print(f\"Rate limit exceeded for {tag}, retrying in {delay} seconds...\")\n",
    "                time.sleep(delay)\n",
    "                delay *= backoff\n",
    "        else:\n",
    "            print(f\" Unexpected {r.status_code}\")\n",
    "\n",
    "\n",
    "    print(f\"Exhausted retries for {tag}\")\n",
    "    return False"
   ]
  },
  {
   "cell_type": "code",
   "execution_count": 91,
   "metadata": {
    "vscode": {
     "languageId": "shellscript"
    }
   },
   "outputs": [
    {
     "name": "stdout",
     "output_type": "stream",
     "text": [
      "3\n"
     ]
    }
   ],
   "source": [
    "still_need_sweagent_sr_check_ids = [id for id in good_ids if id not in sweagent_sr_check_results and id not in still_need_sr_agent_ids]\n",
    "print(len(still_need_sweagent_sr_check_ids))\n",
    "save_ids(still_need_sweagent_sr_check_ids, 'still_need_sweagent_sr_check_ids.txt')"
   ]
  },
  {
   "cell_type": "code",
   "execution_count": 92,
   "metadata": {
    "vscode": {
     "languageId": "shellscript"
    }
   },
   "outputs": [
    {
     "name": "stdout",
     "output_type": "stream",
     "text": [
      "61\n"
     ]
    }
   ],
   "source": [
    "still_need_sweagent_sr_bf_check_ids = [id for id in good_ids if id not in sweagent_sr_bf_check_results and id not in still_need_sr_agent_ids]\n",
    "print(len(still_need_sweagent_sr_bf_check_ids))\n",
    "save_ids(still_need_sweagent_sr_bf_check_ids, 'still_need_sweagent_sr_bf_check_ids.txt')"
   ]
  },
  {
   "cell_type": "code",
   "execution_count": 83,
   "metadata": {
    "vscode": {
     "languageId": "shellscript"
    }
   },
   "outputs": [],
   "source": [
    "# create one big all_preds.jsonl file with the results\n",
    "with open('sweagent_sr_all_preds.jsonl', 'w') as f:\n",
    "    for instance_id in sweagent_results:\n",
    "        pred = sweagent_results[instance_id]\n",
    "        f.write(json.dumps(pred) + \"\\n\")"
   ]
  },
  {
   "cell_type": "code",
   "execution_count": 134,
   "metadata": {
    "vscode": {
     "languageId": "shellscript"
    }
   },
   "outputs": [
    {
     "name": "stdout",
     "output_type": "stream",
     "text": [
      "547\n"
     ]
    }
   ],
   "source": [
    "# saving the overall results\n",
    "# instance_id: original_style_review, sweagent_patch, new_style_review, report, score\n",
    "overall_results = {}\n",
    "have_all_ids = [id for id in good_ids if all([id in r for r in [sweagent_sr_check_results, sweagent_sr_bf_check_results, sweagent_results]])]\n",
    "# have_all_ids = [id for id in good_ids if all([id in r for r in [sweagent_sr_check_results, sweagent_results]])]\n",
    "for instance_id in have_all_ids:\n",
    "    original_style_review_report = sr_results[instance_id]\n",
    "    sweagent_patch = sweagent_results[instance_id]\n",
    "    new_style_review_report = sweagent_sr_check_results[instance_id]\n",
    "    test_report = sweagent_sr_bf_check_results[instance_id] if instance_id in sweagent_sr_bf_check_results else None\n",
    "    max_fixable = N_PYLINT_MESSAGES_SHOWN_TO_AGENT\n",
    "    old_n, new_n, score = calculate_sweagent_score(original_style_review_report, new_style_review_report, test_report, max_fixable=max_fixable)\n",
    "    old_n, new_n, score_ignore_resolved = calculate_sweagent_score(original_style_review_report, new_style_review_report, test_report=None, max_fixable=max_fixable)\n",
    "\n",
    "    overall_results[instance_id] = {\n",
    "        'original_style_review_report': original_style_review_report,\n",
    "        'sweagent_patch': sweagent_patch,\n",
    "        'new_style_review_report': new_style_review_report,\n",
    "        'test_report': test_report,\n",
    "        'old_n_messages': old_n,\n",
    "        'new_n_messages': new_n,\n",
    "        'max_fixable': max_fixable,\n",
    "        # 'resolved': test_report['resolved'],\n",
    "        'resolved': \"N/A\",\n",
    "        'score': score,\n",
    "        'score_ignore_resolved': score_ignore_resolved,\n",
    "        'score_formula': f\"1(resolved) * min(1, ((old_n_messages - new_n_messages) / max_fixable))\",\n",
    "    }\n",
    "\n",
    "print(len(overall_results))"
   ]
  },
  {
   "cell_type": "code",
   "execution_count": null,
   "metadata": {
    "vscode": {
     "languageId": "shellscript"
    }
   },
   "outputs": [],
   "source": [
    "with open('sweagent_style_review_results.json', 'w') as f:\n",
    "    json.dump(overall_results, f, indent=2)"
   ]
  },
  {
   "cell_type": "code",
   "execution_count": 137,
   "metadata": {
    "vscode": {
     "languageId": "shellscript"
    }
   },
   "outputs": [
    {
     "name": "stdout",
     "output_type": "stream",
     "text": [
      "Overall score: 0.089\n",
      "Overall score ignoring whether resolved: 0.294\n"
     ]
    }
   ],
   "source": [
    "overall_score = sum([r['score'] for r in overall_results.values()]) / len(overall_results)\n",
    "overall_score_ignore_resolved = sum([r['score_ignore_resolved'] for r in overall_results.values()]) / len(overall_results)\n",
    "print(f\"Overall score: {overall_score:.3f}\")\n",
    "print(f\"Overall score ignoring whether resolved: {overall_score_ignore_resolved:.3f}\")"
   ]
  },
  {
   "cell_type": "code",
   "execution_count": 104,
   "metadata": {
    "vscode": {
     "languageId": "shellscript"
    }
   },
   "outputs": [
    {
     "name": "stdout",
     "output_type": "stream",
     "text": [
      "Delta counts:\n",
      "Num resolved: 282\n",
      "-105 [('camel-ai__camel-1806', 25, 130, True)]\n",
      "-10 [('django__django-12209', 276, 286, True)]\n",
      "10 [('scikit-learn__scikit-learn-14629', 68, 58, False), ('sympy__sympy-16886', 106, 96, False), ('scikit-learn__scikit-learn-14983', 101, 91, False), ('django__django-15569', 27, 17, True), ('scikit-learn__scikit-learn-26323', 38, 28, False), ('django__django-11728', 18, 8, False), ('scikit-learn__scikit-learn-15100', 89, 79, False), ('scikit-learn__scikit-learn-13439', 83, 73, False), ('keras-team__keras-19844', 47, 37, False), ('keras-team__keras-19931', 226, 216, False), ('keras-team__keras-19955', 158, 148, False)]\n",
      "20 [('django__django-14725', 176, 156, True), ('django__django-13933', 159, 139, True), ('django__django-14915', 174, 154, True), ('psf__requests-1724', 43, 23, False), ('keras-team__keras-20541', 96, 76, False), ('django__django-12273', 278, 258, True), ('matplotlib__matplotlib-24870', 134, 114, True), ('django__django-12143', 299, 279, True), ('django__django-12325', 363, 343, True)]\n",
      "30 [('celery__celery-8374', 41, 11, True), ('scikit-learn__scikit-learn-26194', 31, 1, False)]\n",
      "103 [('sphinx-doc__sphinx-7454', 104, 1, False), ('django__django-14765', 104, 1, False)]\n",
      "905 [('keras-team__keras-19826', 906, 1, False)]\n"
     ]
    }
   ],
   "source": [
    "# doing some analytics\n",
    "\n",
    "deltas = [r['old_n_messages'] - r['new_n_messages'] for r in overall_results.values()]\n",
    "resolveds = [r['resolved'] for r in overall_results.values()]\n",
    "\n",
    "from collections import Counter\n",
    "delta_counts = Counter(deltas)\n",
    "print(\"Delta counts:\")\n",
    "for k in sorted(delta_counts.keys()):\n",
    "    nr = sum([1 for d, r in zip(deltas, resolveds) if d == k and r])\n",
    "    nur = sum([1 for d, r in zip(deltas, resolveds) if d == k and not r])\n",
    "    # print(f\"{k}: {delta_counts[k]} ({nr}, {nur})\")\n",
    "\n",
    "print('Num resolved:', sum([r['resolved'] for r in overall_results.values()]))\n",
    "\n",
    "# print id with -105\n",
    "ds = [-105, -10, 10, 20, 30, 103, 905]\n",
    "for d in ds:\n",
    "    l = [(id, r['old_n_messages'], r['new_n_messages'], r['resolved']) for id, r in overall_results.items() if r['old_n_messages'] - r['new_n_messages'] == d]\n",
    "    print(d, l)\n"
   ]
  },
  {
   "cell_type": "code",
   "execution_count": 2,
   "metadata": {
    "vscode": {
     "languageId": "shellscript"
    }
   },
   "outputs": [],
   "source": [
    "with open('sweagent_style_review_results.json', 'r') as f:\n",
    "    overall_results = json.load(f)"
   ]
  },
  {
   "cell_type": "code",
   "execution_count": 3,
   "metadata": {
    "vscode": {
     "languageId": "shellscript"
    }
   },
   "outputs": [],
   "source": [
    "style_review_ids = [id for id in overall_results]"
   ]
  },
  {
   "cell_type": "code",
   "execution_count": 6,
   "metadata": {
    "vscode": {
     "languageId": "shellscript"
    }
   },
   "outputs": [],
   "source": [
    "chosen_ids = load_ids('data/chosen_sane_instances.txt')"
   ]
  },
  {
   "cell_type": "code",
   "execution_count": 7,
   "metadata": {
    "vscode": {
     "languageId": "shellscript"
    }
   },
   "outputs": [
    {
     "name": "stdout",
     "output_type": "stream",
     "text": [
      "214\n"
     ]
    }
   ],
   "source": [
    "chosen_sr_ids = [id for id in style_review_ids if id in chosen_ids]\n",
    "print(len(chosen_sr_ids))"
   ]
  },
  {
   "cell_type": "markdown",
   "metadata": {
    "vscode": {
     "languageId": "shellscript"
    }
   },
   "source": [
    "# llama style review"
   ]
  },
  {
   "cell_type": "code",
   "execution_count": null,
   "metadata": {
    "vscode": {
     "languageId": "shellscript"
    }
   },
   "outputs": [],
   "source": [
    "sweagent_results_llama = load_sweagent_results('gc_results/sweb-sweagent-sr-llama')"
   ]
  },
  {
   "cell_type": "code",
   "execution_count": null,
   "metadata": {
    "vscode": {
     "languageId": "shellscript"
    }
   },
   "outputs": [],
   "source": [
    "still_need_sr_agent_ids_llama = [id for id in chosen_ids if id not in sweagent_results_llama]\n",
    "sweagent_sr_done_ids_llama = [id for id in chosen_ids if id in sweagent_results_llama]\n",
    "\n",
    "print(len(still_need_sr_agent_ids_llama), len(sweagent_sr_done_ids_llama))\n",
    "save_ids(still_need_sr_agent_ids_llama, 'still_need_sr_agent_ids_llama.txt')\n",
    "save_ids(sweagent_sr_done_ids_llama, 'sweagent_sr_done_ids_llama.txt')"
   ]
  },
  {
   "cell_type": "code",
   "execution_count": null,
   "metadata": {
    "vscode": {
     "languageId": "shellscript"
    }
   },
   "outputs": [],
   "source": [
    "sweagent_sr_check_results_llama = import_sr_results_nongold('gc_results/sweb-sweagent-sr-check-llama', run_id='sweagent_sr_check_llama')\n",
    "print(len(sweagent_sr_check_results_llama))\n",
    "\n",
    "sweagent_sr_bf_check_results_llama = import_sweagent_bugfixing_results('gc_results/sweb-sweagent-sr-bf-check-llama', run_id='sweagent_sr_bf_check_llama')\n",
    "print(len(sweagent_sr_bf_check_results_llama))"
   ]
  },
  {
   "cell_type": "code",
   "execution_count": null,
   "metadata": {
    "vscode": {
     "languageId": "shellscript"
    }
   },
   "outputs": [],
   "source": [
    "still_need_sweagent_sr_check_ids_llama = [id for id in chosen_ids if id not in sweagent_sr_check_results_llama and id not in still_need_sr_agent_ids_llama]\n",
    "print(len(still_need_sweagent_sr_check_ids_llama))\n",
    "save_ids(still_need_sweagent_sr_check_ids_llama, 'still_need_sweagent_sr_check_ids_llama.txt')\n",
    "\n",
    "still_need_sweagent_sr_bf_check_ids_llama = [id for id in chosen_ids if id not in sweagent_sr_bf_check_results_llama and id not in still_need_sr_agent_ids_llama]\n",
    "print(len(still_need_sweagent_sr_bf_check_ids_llama))\n",
    "save_ids(still_need_sweagent_sr_bf_check_ids_llama, 'still_need_sweagent_sr_bf_check_ids_llama.txt')"
   ]
  },
  {
   "cell_type": "markdown",
   "metadata": {
    "vscode": {
     "languageId": "shellscript"
    }
   },
   "source": [
    "# review addressal gemini"
   ]
  },
  {
   "cell_type": "code",
   "execution_count": null,
   "metadata": {
    "vscode": {
     "languageId": "shellscript"
    }
   },
   "outputs": [],
   "source": [
    "sweagent_review_results = load_sweagent_results('gc_results/sweb-sweagent-rf')"
   ]
  },
  {
   "cell_type": "code",
   "execution_count": null,
   "metadata": {
    "vscode": {
     "languageId": "shellscript"
    }
   },
   "outputs": [],
   "source": [
    "still_need_rf_agent_ids = [id for id in chosen_ids if id not in sweagent_review_results]\n",
    "sweagent_rf_done_ids = [id for id in chosen_ids if id in sweagent_review_results]\n",
    "\n",
    "print(len(still_need_rf_agent_ids), len(sweagent_rf_done_ids))\n",
    "save_ids(still_need_rf_agent_ids, 'still_need_rf_agent_ids.txt')\n",
    "save_ids(sweagent_rf_done_ids, 'sweagent_rf_done_ids.txt')\n",
    "\n",
    "sweagent_rf_bf_check_results = import_sweagent_bugfixing_results('gc_results/sweb-sweagent-rf-bf-check', run_id='sweagent_rf_bf_check')\n",
    "print(len(sweagent_rf_bf_check_results))\n",
    "\n",
    "still_need_sweagent_rf_bf_check_ids = [id for id in chosen_ids if id not in sweagent_rf_bf_check_results and id not in still_need_rf_agent_ids]\n",
    "print(len(still_need_sweagent_rf_bf_check_ids))\n",
    "save_ids(still_need_sweagent_rf_bf_check_ids, 'still_need_sweagent_sr_bf_check_ids.txt')"
   ]
  },
  {
   "cell_type": "markdown",
   "metadata": {
    "vscode": {
     "languageId": "shellscript"
    }
   },
   "source": [
    "# review addressal llama"
   ]
  },
  {
   "cell_type": "code",
   "execution_count": null,
   "metadata": {
    "vscode": {
     "languageId": "shellscript"
    }
   },
   "outputs": [],
   "source": [
    "sweagent_review_results_llama = load_sweagent_results('gc_results/sweb-sweagent-rf-llama')"
   ]
  },
  {
   "cell_type": "code",
   "execution_count": null,
   "metadata": {
    "vscode": {
     "languageId": "shellscript"
    }
   },
   "outputs": [],
   "source": [
    "still_need_rf_agent_ids_llama = [id for id in chosen_ids if id not in sweagent_review_results_llama]\n",
    "sweagent_rf_done_ids_llama = [id for id in chosen_ids if id in sweagent_review_results_llama]\n",
    "\n",
    "print(len(still_need_rf_agent_ids_llama), len(sweagent_rf_done_ids_llama))\n",
    "save_ids_llama(still_need_rf_agent_ids_llama, 'still_need_rf_agent_ids_llama.txt')\n",
    "save_ids_llama(sweagent_rf_done_ids_llama, 'sweagent_rf_done_ids_llama.txt')\n",
    "\n",
    "sweagent_rf_bf_check_results_llama = import_sweagent_bugfixing_results('gc_results/sweb-sweagent-rf-bf-check_llama', run_id='sweagent_rf_bf_check_llama')\n",
    "print(len(sweagent_rf_bf_check_results_llama))\n",
    "\n",
    "still_need_sweagent_rf_bf_check_ids_llama = [id for id in chosen_ids if id not in sweagent_rf_bf_check_results_llama and id not in still_need_rf_agent_ids_llama]\n",
    "print(len(still_need_sweagent_rf_bf_check_ids_llama))\n",
    "save_ids(still_need_sweagent_rf_bf_check_ids_llama, 'still_need_sweagent_sr_bf_check_ids_llama.txt')"
   ]
  }
 ],
 "metadata": {
  "kernelspec": {
   "display_name": "codearena",
   "language": "python",
   "name": "python3"
  },
  "language_info": {
   "codemirror_mode": {
    "name": "ipython",
    "version": 3
   },
   "file_extension": ".py",
   "mimetype": "text/x-python",
   "name": "python",
   "nbconvert_exporter": "python",
   "pygments_lexer": "ipython3",
   "version": "3.12.8"
  }
 },
 "nbformat": 4,
 "nbformat_minor": 2
}
